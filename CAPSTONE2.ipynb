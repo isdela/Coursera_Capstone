{
 "cells": [
  {
   "cell_type": "markdown",
   "metadata": {},
   "source": [
    "## Neighborhoods in Toronto"
   ]
  },
  {
   "cell_type": "markdown",
   "metadata": {},
   "source": [
    "Installing beautifull soup"
   ]
  },
  {
   "cell_type": "code",
   "execution_count": 143,
   "metadata": {},
   "outputs": [
    {
     "name": "stdout",
     "output_type": "stream",
     "text": [
      "Solving environment: done\n",
      "\n",
      "\n",
      "==> WARNING: A newer version of conda exists. <==\n",
      "  current version: 4.5.11\n",
      "  latest version: 4.7.12\n",
      "\n",
      "Please update conda by running\n",
      "\n",
      "    $ conda update -n base -c defaults conda\n",
      "\n",
      "\n",
      "\n",
      "# All requested packages already installed.\n",
      "\n"
     ]
    }
   ],
   "source": [
    "!conda install -c anaconda beautifulsoup4 --yes"
   ]
  },
  {
   "cell_type": "markdown",
   "metadata": {},
   "source": [
    "import libraries"
   ]
  },
  {
   "cell_type": "code",
   "execution_count": 144,
   "metadata": {},
   "outputs": [],
   "source": [
    "\n",
    "import requests\n",
    "from bs4 import BeautifulSoup\n",
    "import pandas as pd\n",
    "import numpy as np\n",
    "website_url = requests.get(\"https://en.wikipedia.org/wiki/List_of_postal_codes_of_Canada:_M\").text\n",
    "soup = BeautifulSoup(website_url, 'html.parser')\n"
   ]
  },
  {
   "cell_type": "markdown",
   "metadata": {},
   "source": [
    "Extract table"
   ]
  },
  {
   "cell_type": "code",
   "execution_count": 145,
   "metadata": {},
   "outputs": [],
   "source": [
    "\n",
    "table = soup.find('table', attrs={'class': \"wikitable sortable\"})\n",
    "\n",
    "#column name\n",
    "table_header=table.find_all('th')\n",
    "table_header=[ele.text.strip() for ele in table_header]\n"
   ]
  },
  {
   "cell_type": "code",
   "execution_count": 146,
   "metadata": {},
   "outputs": [],
   "source": [
    "#data table\n",
    "table_body = table.find('tbody')\n",
    "data=[]\n",
    "rows = table_body.find_all('tr')\n",
    "for row in rows:\n",
    "    cols = row.find_all('td')\n",
    "    cols = [ele.text.strip() for ele in cols]\n",
    "    data.append([ele for ele in cols if ele]) # Get rid of empty valueta\n",
    "dfn=pd.DataFrame(data=data)\n",
    "dfn.columns=table_header\n"
   ]
  },
  {
   "cell_type": "markdown",
   "metadata": {},
   "source": [
    "Preparing Data"
   ]
  },
  {
   "cell_type": "code",
   "execution_count": 148,
   "metadata": {},
   "outputs": [],
   "source": [
    "#drop postal code null\n",
    "dfn.dropna(0,inplace=True)\n",
    "i=0\n",
    "j=0\n",
    "#change \"Not assigned\" in Borough and Neighborhood\n",
    "for index, row in dfn.iterrows():\n",
    "    \n",
    "    if row[\"Borough\"]==\"Not assigned\":\n",
    "        #borrar regitro\n",
    "        dfn.drop(index=[index],inplace=True)\n",
    "        i=i+1\n",
    "    else:\n",
    "        if row[\"Neighbourhood\"]==\"Not assigned\":\n",
    "            #neighborhood will be the same as the borough\n",
    "            val=dfn.iloc[index,1]\n",
    "            dfn.at[index,\"Neighbourhood\"]=val\n",
    "            j=j+i           \n"
   ]
  },
  {
   "cell_type": "code",
   "execution_count": 150,
   "metadata": {},
   "outputs": [],
   "source": [
    "dfn.sort_values(\"Postcode\")\n",
    "df = pd.DataFrame(columns=table_header)\n",
    "i=0\n",
    "j=0\n",
    "for i in range(dfn[\"Postcode\"].count()):\n",
    "    if i==0:\n",
    "        pc=dfn.iloc[i,0]\n",
    "        B=dfn.iloc[i,1]\n",
    "        C=dfn.iloc[i,2]\n",
    "    else:\n",
    "        if dfn.iloc[i,0]==pc:\n",
    "            C = C + ', '+ dfn.iloc[i,2]\n",
    "        else:\n",
    "            df = df.append({\"Postcode\":pc,\"Borough\":B,\"Neighbourhood\":C}, ignore_index=True)\n",
    "            pc=dfn.iloc[i,0]\n",
    "            B=dfn.iloc[i,1]\n",
    "            C=dfn.iloc[i,2]\n",
    "            j=j+1\n"
   ]
  },
  {
   "cell_type": "code",
   "execution_count": 151,
   "metadata": {},
   "outputs": [
    {
     "data": {
      "text/plain": [
       "(102, 3)"
      ]
     },
     "execution_count": 151,
     "metadata": {},
     "output_type": "execute_result"
    }
   ],
   "source": [
    "df.shape"
   ]
  },
  {
   "cell_type": "code",
   "execution_count": null,
   "metadata": {},
   "outputs": [],
   "source": []
  }
 ],
 "metadata": {
  "kernelspec": {
   "display_name": "Python",
   "language": "python",
   "name": "conda-env-python-py"
  },
  "language_info": {
   "codemirror_mode": {
    "name": "ipython",
    "version": 3
   },
   "file_extension": ".py",
   "mimetype": "text/x-python",
   "name": "python",
   "nbconvert_exporter": "python",
   "pygments_lexer": "ipython3",
   "version": "3.6.7"
  }
 },
 "nbformat": 4,
 "nbformat_minor": 4
}
